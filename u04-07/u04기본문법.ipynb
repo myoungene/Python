{
  "nbformat": 4,
  "nbformat_minor": 0,
  "metadata": {
    "colab": {
      "name": "u04기본문법.ipynb",
      "provenance": []
    },
    "kernelspec": {
      "name": "python3",
      "display_name": "Python 3"
    },
    "language_info": {
      "name": "python"
    }
  },
  "cells": [
    {
      "cell_type": "markdown",
      "metadata": {
        "id": "On55KKlGbFOn"
      },
      "source": [
        "# Unit 4. 기본 문법 알아보기"
      ]
    },
    {
      "cell_type": "markdown",
      "metadata": {
        "id": "ET_XqwaLbKpR"
      },
      "source": [
        "## 4.1 세미콜론"
      ]
    },
    {
      "cell_type": "code",
      "metadata": {
        "colab": {
          "base_uri": "https://localhost:8080/"
        },
        "id": "FrWjwAYEbO1Z",
        "outputId": "43b690d6-b701-4d07-e914-10076b6c571d"
      },
      "source": [
        "print(\"Hello, world!\")"
      ],
      "execution_count": 2,
      "outputs": [
        {
          "output_type": "stream",
          "text": [
            "Hello, world!\n"
          ],
          "name": "stdout"
        }
      ]
    },
    {
      "cell_type": "code",
      "metadata": {
        "colab": {
          "base_uri": "https://localhost:8080/"
        },
        "id": "kxrezDvBbS5G",
        "outputId": "1c347f2a-06bb-4f92-ea3e-df1f738df616"
      },
      "source": [
        "print(\"Hello\"); print('1234')"
      ],
      "execution_count": 3,
      "outputs": [
        {
          "output_type": "stream",
          "text": [
            "Hello\n",
            "1234\n"
          ],
          "name": "stdout"
        }
      ]
    },
    {
      "cell_type": "markdown",
      "metadata": {
        "id": "kj55AXzobuGp"
      },
      "source": [
        "## 4.2 주석"
      ]
    },
    {
      "cell_type": "markdown",
      "metadata": {
        "id": "Jjs2nThbb1mc"
      },
      "source": [
        "### 4.2.1 한 줄 주석"
      ]
    },
    {
      "cell_type": "code",
      "metadata": {
        "colab": {
          "base_uri": "https://localhost:8080/"
        },
        "id": "GSpgLglPbju6",
        "outputId": "4aa157c0-a530-419e-92bf-a77f87416c6e"
      },
      "source": [
        "# Hello, world! 출력\n",
        "print(\"Hello, world!\")"
      ],
      "execution_count": 4,
      "outputs": [
        {
          "output_type": "stream",
          "text": [
            "Hello, world!\n"
          ],
          "name": "stdout"
        }
      ]
    },
    {
      "cell_type": "code",
      "metadata": {
        "colab": {
          "base_uri": "https://localhost:8080/"
        },
        "id": "ySI3mpvKcIm7",
        "outputId": "74d860d5-d6e1-4a94-8b4e-aac4b25bc9d3"
      },
      "source": [
        "print(\"Hello, world!\")      #comment"
      ],
      "execution_count": 5,
      "outputs": [
        {
          "output_type": "stream",
          "text": [
            "Hello, world!\n"
          ],
          "name": "stdout"
        }
      ]
    },
    {
      "cell_type": "markdown",
      "metadata": {
        "id": "7ILeuOAjetOz"
      },
      "source": [
        "### 4.2.2 블록주석"
      ]
    },
    {
      "cell_type": "code",
      "metadata": {
        "colab": {
          "base_uri": "https://localhost:8080/",
          "height": 35
        },
        "id": "D-oUGnnEey-z",
        "outputId": "05bfd6f8-8768-43e6-e3fb-e2ac939f740f"
      },
      "source": [
        "# 더하기\n",
        "'''a = 1 + 2\n",
        "print('Hello, world!')'''"
      ],
      "execution_count": 6,
      "outputs": [
        {
          "output_type": "execute_result",
          "data": {
            "application/vnd.google.colaboratory.intrinsic+json": {
              "type": "string"
            },
            "text/plain": [
              "\"a = 1 + 2\\nprint('Hello, world!')\""
            ]
          },
          "metadata": {
            "tags": []
          },
          "execution_count": 6
        }
      ]
    },
    {
      "cell_type": "code",
      "metadata": {
        "colab": {
          "base_uri": "https://localhost:8080/",
          "height": 35
        },
        "id": "y33IwwPvfLk1",
        "outputId": "3a8ad009-85b3-47ec-f54d-906d2cf0a92e"
      },
      "source": [
        "\"\"\"\n",
        "이 안에 포함된 내용이 블록주석\n",
        "\"\"\""
      ],
      "execution_count": 7,
      "outputs": [
        {
          "output_type": "execute_result",
          "data": {
            "application/vnd.google.colaboratory.intrinsic+json": {
              "type": "string"
            },
            "text/plain": [
              "'\\n이 안에 포함된 내용이 블록주석\\n'"
            ]
          },
          "metadata": {
            "tags": []
          },
          "execution_count": 7
        }
      ]
    },
    {
      "cell_type": "markdown",
      "metadata": {
        "id": "9AK4ZLFhgjTr"
      },
      "source": [
        "[사이 상식]\n",
        "한글 표준 CP949, EUC-KR, 완성형 16비트(2 바이트), ANSI <-- 윈도우 기본\n",
        "\n",
        "가 0x1234\n",
        "각 0x1235\n",
        "\n",
        "Web 세상 utf-8, 조합형 초성+중성+종성 각 1바이트\n",
        "\n",
        "가 0x010100\n",
        "각 0x010101\n",
        "\n",
        "encoding, decoding \n",
        "한글이 깨질 때 ANSI, utf-8 등 파일 형식을 바꿔보셈"
      ]
    },
    {
      "cell_type": "markdown",
      "metadata": {
        "id": "gsRVMlJZia4S"
      },
      "source": [
        "## 4.3 들여쓰기 (Indentation)"
      ]
    },
    {
      "cell_type": "code",
      "metadata": {
        "id": "j0cgJ4QQiee_"
      },
      "source": [
        "\"\"\" C 프로그래밍 예 \n",
        "sum = 0;\n",
        "for (i=1; i<=10; i++) {\n",
        "    sum += i;\n",
        "}\n",
        "print(sum);\n",
        "\"\"\""
      ],
      "execution_count": null,
      "outputs": []
    },
    {
      "cell_type": "code",
      "metadata": {
        "colab": {
          "base_uri": "https://localhost:8080/"
        },
        "id": "ydlWpVFqjHEg",
        "outputId": "c6ea676e-e8d3-473a-878a-450fe3933847"
      },
      "source": [
        "# 파이썬 예\n",
        "sum = 0\n",
        "for i in range(1, 11):\n",
        "    sum += i\n",
        "print(sum)"
      ],
      "execution_count": 8,
      "outputs": [
        {
          "output_type": "stream",
          "text": [
            "55\n"
          ],
          "name": "stdout"
        }
      ]
    },
    {
      "cell_type": "code",
      "metadata": {
        "colab": {
          "base_uri": "https://localhost:8080/"
        },
        "id": "yS3djTQijp6s",
        "outputId": "6553170f-7c32-41f4-cff3-053bfc7232b9"
      },
      "source": [
        "# 기본 공백: 공백 4개, 탭/백탭(shift+Tab)\n",
        "sum = 0\n",
        "for i in range(1, 11):\n",
        "    sum += i\n",
        "    if (i > 9):\n",
        "      print(i)\n",
        "\n",
        "print(sum)"
      ],
      "execution_count": 9,
      "outputs": [
        {
          "output_type": "stream",
          "text": [
            "10\n",
            "55\n"
          ],
          "name": "stdout"
        }
      ]
    }
  ]
}