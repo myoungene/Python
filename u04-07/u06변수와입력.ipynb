{
  "nbformat": 4,
  "nbformat_minor": 0,
  "metadata": {
    "colab": {
      "name": "u06.ipynb",
      "provenance": []
    },
    "kernelspec": {
      "name": "python3",
      "display_name": "Python 3"
    },
    "language_info": {
      "name": "python"
    }
  },
  "cells": [
    {
      "cell_type": "markdown",
      "metadata": {
        "id": "OwGHCMsJMKRh"
      },
      "source": [
        "## Unit 6. 변수와 입력"
      ]
    },
    {
      "cell_type": "markdown",
      "metadata": {
        "id": "FpcmWLPUMP51"
      },
      "source": [
        "### 6.1 변수"
      ]
    },
    {
      "cell_type": "markdown",
      "metadata": {
        "id": "esu9EZ3_M6Ux"
      },
      "source": [
        "영문 문자와 숫자를 사용할 수 있습니다.\n",
        "대소문자를 구분합니다.\n",
        "문자부터 시작해야 하며 숫자부터 시작하면 안 됩니다.\n",
        "_(밑줄 문자)로 시작할 수 있습니다.\n",
        "특수 문자(+, -, *, /, $, @, &, % 등)는 사용할 수 없습니다.\n",
        "파이썬의 키워드(if, for, while, and, or 등)는 사용할 수 없습니다."
      ]
    },
    {
      "cell_type": "code",
      "metadata": {
        "colab": {
          "base_uri": "https://localhost:8080/"
        },
        "id": "y1e-DTbkM45B",
        "outputId": "a8bc556b-fc6d-4540-e34e-2654baafb41f"
      },
      "source": [
        "#Null\n",
        "x = None\n",
        "print(x)"
      ],
      "execution_count": 2,
      "outputs": [
        {
          "output_type": "stream",
          "text": [
            "None\n"
          ],
          "name": "stdout"
        }
      ]
    },
    {
      "cell_type": "markdown",
      "metadata": {
        "id": "Q5KNEZTbOiRa"
      },
      "source": [
        "### 6.2 변수로 계산"
      ]
    },
    {
      "cell_type": "code",
      "metadata": {
        "colab": {
          "base_uri": "https://localhost:8080/"
        },
        "id": "hG5D41WnOgDj",
        "outputId": "941a614b-2219-432f-ea10-59a218ed10c8"
      },
      "source": [
        "a = 10\n",
        "a = a + 10\n",
        "a"
      ],
      "execution_count": 4,
      "outputs": [
        {
          "output_type": "execute_result",
          "data": {
            "text/plain": [
              "20"
            ]
          },
          "metadata": {
            "tags": []
          },
          "execution_count": 4
        }
      ]
    },
    {
      "cell_type": "code",
      "metadata": {
        "colab": {
          "base_uri": "https://localhost:8080/"
        },
        "id": "PZGBTmjpOyKA",
        "outputId": "cd7b6c69-dbe7-4cb2-e470-f090bb7ea337"
      },
      "source": [
        "sum, prod = 0, 1\n",
        "for i in range(1, 11):\n",
        "    sum += i\n",
        "    prod *= i\n",
        "sum, prod"
      ],
      "execution_count": 7,
      "outputs": [
        {
          "output_type": "execute_result",
          "data": {
            "text/plain": [
              "(55, 3628800)"
            ]
          },
          "metadata": {
            "tags": []
          },
          "execution_count": 7
        }
      ]
    },
    {
      "cell_type": "markdown",
      "metadata": {
        "id": "x5Bx38ySQl84"
      },
      "source": [
        "### 6.3 입력(input)"
      ]
    },
    {
      "cell_type": "code",
      "metadata": {
        "colab": {
          "base_uri": "https://localhost:8080/"
        },
        "id": "Bmt_Kl6HPfIQ",
        "outputId": "8f274ba1-17b5-4a88-b1b8-1dbd543334ed"
      },
      "source": [
        "x = input()"
      ],
      "execution_count": 8,
      "outputs": [
        {
          "output_type": "stream",
          "text": [
            "hello world\n"
          ],
          "name": "stdout"
        }
      ]
    },
    {
      "cell_type": "code",
      "metadata": {
        "colab": {
          "base_uri": "https://localhost:8080/",
          "height": 36
        },
        "id": "pWI2c0TiQqFn",
        "outputId": "8b9b7fd7-7d32-494c-d4f7-fffc8e35410e"
      },
      "source": [
        "x"
      ],
      "execution_count": 9,
      "outputs": [
        {
          "output_type": "execute_result",
          "data": {
            "application/vnd.google.colaboratory.intrinsic+json": {
              "type": "string"
            },
            "text/plain": [
              "'hello world'"
            ]
          },
          "metadata": {
            "tags": []
          },
          "execution_count": 9
        }
      ]
    },
    {
      "cell_type": "code",
      "metadata": {
        "colab": {
          "base_uri": "https://localhost:8080/"
        },
        "id": "utmG_ZuXQtTp",
        "outputId": "f9c53fee-8508-47da-b8a0-91741de1421b"
      },
      "source": [
        "x = input(\"1에서 10까지의 정수값> \")   #prompt"
      ],
      "execution_count": 10,
      "outputs": [
        {
          "output_type": "stream",
          "text": [
            "1에서 10까지의 정수값5\n"
          ],
          "name": "stdout"
        }
      ]
    },
    {
      "cell_type": "code",
      "metadata": {
        "colab": {
          "base_uri": "https://localhost:8080/"
        },
        "id": "uL07GbCaQwmB",
        "outputId": "676c5342-933d-49ef-910d-ea6ce405e682"
      },
      "source": [
        "# 입력한 두 정수의 합\n",
        "a = int(input(\"첫번째 정수> \"))\n",
        "b = int(input(\"두번째 정수> \"))\n",
        "\n",
        "print(a+b)"
      ],
      "execution_count": 13,
      "outputs": [
        {
          "output_type": "stream",
          "text": [
            "첫번째 정수> 10\n",
            "두번째 정수> 20\n",
            "30\n"
          ],
          "name": "stdout"
        }
      ]
    },
    {
      "cell_type": "markdown",
      "metadata": {
        "id": "zzybcB4lSdTu"
      },
      "source": [
        "### 6.4 입력값 두 개"
      ]
    },
    {
      "cell_type": "code",
      "metadata": {
        "colab": {
          "base_uri": "https://localhost:8080/"
        },
        "id": "YhP-XI2fRRs6",
        "outputId": "ee466a8e-3b28-4ff3-edb4-414af948ad92"
      },
      "source": [
        "s = \"hello world\"\n",
        "s.split()"
      ],
      "execution_count": 15,
      "outputs": [
        {
          "output_type": "execute_result",
          "data": {
            "text/plain": [
              "['hello', 'world']"
            ]
          },
          "metadata": {
            "tags": []
          },
          "execution_count": 15
        }
      ]
    },
    {
      "cell_type": "code",
      "metadata": {
        "colab": {
          "base_uri": "https://localhost:8080/"
        },
        "id": "gYuALOOxSpg1",
        "outputId": "82fa49b3-d676-447e-f226-69136773d059"
      },
      "source": [
        "a, b = s.split()\n",
        "a, b"
      ],
      "execution_count": 18,
      "outputs": [
        {
          "output_type": "execute_result",
          "data": {
            "text/plain": [
              "('hello', 'world')"
            ]
          },
          "metadata": {
            "tags": []
          },
          "execution_count": 18
        }
      ]
    },
    {
      "cell_type": "code",
      "metadata": {
        "colab": {
          "base_uri": "https://localhost:8080/"
        },
        "id": "WLPR54LXS9Qw",
        "outputId": "4b76bb5c-5691-47fd-c2ea-d11d0d14f563"
      },
      "source": [
        "a, b, c = 'A quick brown'.split()\n",
        "a, b, c"
      ],
      "execution_count": 19,
      "outputs": [
        {
          "output_type": "execute_result",
          "data": {
            "text/plain": [
              "('A', 'quick', 'brown')"
            ]
          },
          "metadata": {
            "tags": []
          },
          "execution_count": 19
        }
      ]
    },
    {
      "cell_type": "markdown",
      "metadata": {
        "id": "2YYBbKclWezC"
      },
      "source": [
        "## Map 활용"
      ]
    },
    {
      "cell_type": "code",
      "metadata": {
        "colab": {
          "base_uri": "https://localhost:8080/"
        },
        "id": "EX_1qYmdWdNG",
        "outputId": "8e817c7b-a551-4411-a5f7-8b2ac9c4152d"
      },
      "source": [
        "a, b = map(int, [10.2, 11.4])\n",
        "a, b"
      ],
      "execution_count": 21,
      "outputs": [
        {
          "output_type": "execute_result",
          "data": {
            "text/plain": [
              "(10, 11)"
            ]
          },
          "metadata": {
            "tags": []
          },
          "execution_count": 21
        }
      ]
    },
    {
      "cell_type": "code",
      "metadata": {
        "colab": {
          "base_uri": "https://localhost:8080/"
        },
        "id": "Njq0nAh-XJyJ",
        "outputId": "f2e9ed7e-adbf-4ed5-84f9-e96a5bcfda34"
      },
      "source": [
        "a, b = map(int, input('숫자 두 개를 입력하세요: ').split(',')) # 입력받은 값을 콤마를 기준으로 분리\n",
        " \n",
        "print(a + b)"
      ],
      "execution_count": 23,
      "outputs": [
        {
          "output_type": "stream",
          "text": [
            "숫자 두 개를 입력하세요: 10, 20\n",
            "30\n"
          ],
          "name": "stdout"
        }
      ]
    },
    {
      "cell_type": "code",
      "metadata": {
        "id": "1gAm0ijeYipM"
      },
      "source": [
        ""
      ],
      "execution_count": null,
      "outputs": []
    }
  ]
}