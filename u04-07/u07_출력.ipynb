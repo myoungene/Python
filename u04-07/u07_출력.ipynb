{
  "nbformat": 4,
  "nbformat_minor": 0,
  "metadata": {
    "colab": {
      "name": "u07_출력.ipynb",
      "provenance": []
    },
    "kernelspec": {
      "name": "python3",
      "display_name": "Python 3"
    },
    "language_info": {
      "name": "python"
    }
  },
  "cells": [
    {
      "cell_type": "markdown",
      "metadata": {
        "id": "9gkwiD0aaDdO"
      },
      "source": [
        "## Unit7. 출력"
      ]
    },
    {
      "cell_type": "markdown",
      "metadata": {
        "id": "pHfjA7gsadzE"
      },
      "source": [
        "### 7.1 여러개 값을 출력"
      ]
    },
    {
      "cell_type": "code",
      "metadata": {
        "colab": {
          "base_uri": "https://localhost:8080/"
        },
        "id": "ND_0B48maAK6",
        "outputId": "d4caa33c-1c21-4d3b-ab91-2c4bf06ea051"
      },
      "source": [
        "a, b = map(int, input(\"정수 두 개 입력> \").split())\n",
        "print(a)\n",
        "print(b)"
      ],
      "execution_count": 3,
      "outputs": [
        {
          "output_type": "stream",
          "text": [
            "정수 두 개 입력> 10 20\n",
            "10\n",
            "20\n"
          ],
          "name": "stdout"
        }
      ]
    },
    {
      "cell_type": "code",
      "metadata": {
        "colab": {
          "base_uri": "https://localhost:8080/"
        },
        "id": "98xCNSXvaQ1k",
        "outputId": "b976ad32-738b-4b22-c966-9d5d7c62fcde"
      },
      "source": [
        "print(a, b, sep=', ')"
      ],
      "execution_count": 4,
      "outputs": [
        {
          "output_type": "stream",
          "text": [
            "10, 20\n"
          ],
          "name": "stdout"
        }
      ]
    },
    {
      "cell_type": "markdown",
      "metadata": {
        "id": "vIThkPbWbAiJ"
      },
      "source": [
        "### 7.2 줄바꿈 활용"
      ]
    },
    {
      "cell_type": "code",
      "metadata": {
        "colab": {
          "base_uri": "https://localhost:8080/"
        },
        "id": "lXl2yom3ay5f",
        "outputId": "e4c0d41d-53ec-4031-e07f-34d5d559153e"
      },
      "source": [
        "print(a, b, sep='\\n')"
      ],
      "execution_count": 5,
      "outputs": [
        {
          "output_type": "stream",
          "text": [
            "10\n",
            "20\n"
          ],
          "name": "stdout"
        }
      ]
    },
    {
      "cell_type": "code",
      "metadata": {
        "colab": {
          "base_uri": "https://localhost:8080/"
        },
        "id": "oWowYV4qbP0D",
        "outputId": "8d42009b-50cd-4e48-878e-aa04806ca89d"
      },
      "source": [
        "print(a, b, '/\\\\')"
      ],
      "execution_count": 7,
      "outputs": [
        {
          "output_type": "stream",
          "text": [
            "10 20 /\\\n"
          ],
          "name": "stdout"
        }
      ]
    },
    {
      "cell_type": "code",
      "metadata": {
        "colab": {
          "base_uri": "https://localhost:8080/",
          "height": 138
        },
        "id": "wtBmWqzsbnb0",
        "outputId": "c060a19a-f40a-45a2-e3db-9a66dc1ba7ee"
      },
      "source": [
        "with open('\\\\Workspace\\Python') #백슬래쉬 두 개 써야함"
      ],
      "execution_count": 8,
      "outputs": [
        {
          "output_type": "error",
          "ename": "SyntaxError",
          "evalue": "ignored",
          "traceback": [
            "\u001b[0;36m  File \u001b[0;32m\"<ipython-input-8-6de35a0e3250>\"\u001b[0;36m, line \u001b[0;32m1\u001b[0m\n\u001b[0;31m    with open('\\\\Workspace\\Python')\u001b[0m\n\u001b[0m                                   ^\u001b[0m\n\u001b[0;31mSyntaxError\u001b[0m\u001b[0;31m:\u001b[0m invalid syntax\n"
          ]
        }
      ]
    },
    {
      "cell_type": "code",
      "metadata": {
        "colab": {
          "base_uri": "https://localhost:8080/"
        },
        "id": "0sGh3Te4cHgJ",
        "outputId": "0f94bc66-3c01-4e93-bfda-4812e8229b95"
      },
      "source": [
        "print(a)\n",
        "print(b)"
      ],
      "execution_count": 9,
      "outputs": [
        {
          "output_type": "stream",
          "text": [
            "10\n",
            "20\n"
          ],
          "name": "stdout"
        }
      ]
    },
    {
      "cell_type": "code",
      "metadata": {
        "colab": {
          "base_uri": "https://localhost:8080/"
        },
        "id": "lWlzDtJjcYbp",
        "outputId": "a62164a1-fdd5-4c7d-e783-acdc1e5920a8"
      },
      "source": [
        "print(a, end=' ')\n",
        "print(b)"
      ],
      "execution_count": 11,
      "outputs": [
        {
          "output_type": "stream",
          "text": [
            "10 20\n"
          ],
          "name": "stdout"
        }
      ]
    },
    {
      "cell_type": "code",
      "metadata": {
        "id": "5D_iXptacbnz"
      },
      "source": [
        ""
      ],
      "execution_count": null,
      "outputs": []
    }
  ]
}