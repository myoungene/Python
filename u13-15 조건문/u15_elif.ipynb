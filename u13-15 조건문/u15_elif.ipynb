{
  "nbformat": 4,
  "nbformat_minor": 0,
  "metadata": {
    "colab": {
      "name": "u15_elif.ipynb",
      "provenance": []
    },
    "kernelspec": {
      "name": "python3",
      "display_name": "Python 3"
    },
    "language_info": {
      "name": "python"
    }
  },
  "cells": [
    {
      "cell_type": "markdown",
      "metadata": {
        "id": "PJqmJLJQorIq"
      },
      "source": [
        "# Unit 15. elif"
      ]
    },
    {
      "cell_type": "code",
      "metadata": {
        "colab": {
          "base_uri": "https://localhost:8080/"
        },
        "id": "v-1IQUFeooi4",
        "outputId": "8796c4e1-1ebc-4ce1-84fe-1202bd0c670c"
      },
      "source": [
        "x = 15\n",
        "if x == 10:\n",
        "    print(\"it is 10.\")\n",
        "elif x == 20:\n",
        "    print(\"It is 20.\")\n",
        "else:\n",
        "    print(\"10, 20이 아닙니다.\")"
      ],
      "execution_count": 1,
      "outputs": [
        {
          "output_type": "stream",
          "text": [
            "10, 20이 아닙니다.\n"
          ],
          "name": "stdout"
        }
      ]
    },
    {
      "cell_type": "code",
      "metadata": {
        "colab": {
          "base_uri": "https://localhost:8080/"
        },
        "id": "Ty1Cz406o26U",
        "outputId": "6c903c32-ce69-491c-de89-fba3a7a6a406"
      },
      "source": [
        "# 숫자 - 입력, 3의 배수면 fizz, 5의 배수면 buzz, 15의 배수면 fizzbuzz\n",
        "number = int(input())\n",
        "\n",
        "if number % 15 == 0:\n",
        "    print('fizzbuz')\n",
        "elif number % 5 == 0:\n",
        "    print('buzz')\n",
        "elif number % 3 == 0:\n",
        "    print('fizz')\n",
        "else:\n",
        "    print(number)"
      ],
      "execution_count": 4,
      "outputs": [
        {
          "output_type": "stream",
          "text": [
            "30\n",
            "fizzbuz\n"
          ],
          "name": "stdout"
        }
      ]
    },
    {
      "cell_type": "code",
      "metadata": {
        "colab": {
          "base_uri": "https://localhost:8080/"
        },
        "id": "ZZ370m45rAH-",
        "outputId": "5a8f8af7-5eeb-417d-964d-2382b92ca22f"
      },
      "source": [
        "'Fizz'*False, 'Buzz'*True"
      ],
      "execution_count": 5,
      "outputs": [
        {
          "output_type": "execute_result",
          "data": {
            "text/plain": [
              "('', 'Buzz')"
            ]
          },
          "metadata": {
            "tags": []
          },
          "execution_count": 5
        }
      ]
    },
    {
      "cell_type": "code",
      "metadata": {
        "colab": {
          "base_uri": "https://localhost:8080/"
        },
        "id": "QuQFqwhjqZJN",
        "outputId": "39357afb-3bcb-45a5-a7ee-7763867f2f83"
      },
      "source": [
        "print('Fizz'*(number%3==0) + 'Buzz'*(number%5==0) or number)"
      ],
      "execution_count": 6,
      "outputs": [
        {
          "output_type": "stream",
          "text": [
            "FizzBuzz\n"
          ],
          "name": "stdout"
        }
      ]
    },
    {
      "cell_type": "code",
      "metadata": {
        "id": "BTSp5iDcrb_D"
      },
      "source": [
        ""
      ],
      "execution_count": null,
      "outputs": []
    }
  ]
}