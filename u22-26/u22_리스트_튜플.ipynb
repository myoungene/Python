{
  "nbformat": 4,
  "nbformat_minor": 0,
  "metadata": {
    "colab": {
      "name": "u22_리스트_튜플.ipynb",
      "provenance": []
    },
    "kernelspec": {
      "name": "python3",
      "display_name": "Python 3"
    },
    "language_info": {
      "name": "python"
    }
  },
  "cells": [
    {
      "cell_type": "markdown",
      "metadata": {
        "id": "zI92RAGtrB6B"
      },
      "source": [
        "# Unit 22. 리스트_튜플"
      ]
    },
    {
      "cell_type": "markdown",
      "metadata": {
        "id": "fU1uG0GsrHcw"
      },
      "source": [
        "## 22.1 리스트 조작"
      ]
    },
    {
      "cell_type": "code",
      "metadata": {
        "id": "1oqvAs_vrN_P"
      },
      "source": [
        "a = [10, 20, 30]"
      ],
      "execution_count": 2,
      "outputs": []
    },
    {
      "cell_type": "code",
      "metadata": {
        "colab": {
          "base_uri": "https://localhost:8080/"
        },
        "id": "0bCYEzCRrBkA",
        "outputId": "e7f49044-e887-4f84-9dba-492dd8136073"
      },
      "source": [
        "# 리스트 맨 뒤에 요소 하나를 추가하는 메쏘드(method)\n",
        "a.append(500)\n",
        "a"
      ],
      "execution_count": 3,
      "outputs": [
        {
          "output_type": "execute_result",
          "data": {
            "text/plain": [
              "[10, 20, 30, 500]"
            ]
          },
          "metadata": {
            "tags": []
          },
          "execution_count": 3
        }
      ]
    },
    {
      "cell_type": "code",
      "metadata": {
        "colab": {
          "base_uri": "https://localhost:8080/"
        },
        "id": "YUUu0lMHpV8r",
        "outputId": "8c46c050-25c4-4374-c787-a4900633a007"
      },
      "source": [
        "a.append(['x', 'y'])\n",
        "a"
      ],
      "execution_count": 4,
      "outputs": [
        {
          "output_type": "execute_result",
          "data": {
            "text/plain": [
              "[10, 20, 30, 500, ['x', 'y']]"
            ]
          },
          "metadata": {
            "tags": []
          },
          "execution_count": 4
        }
      ]
    },
    {
      "cell_type": "code",
      "metadata": {
        "colab": {
          "base_uri": "https://localhost:8080/"
        },
        "id": "J_31s0xarsIL",
        "outputId": "c52dd466-50d7-4dc0-a280-ab76c878ede9"
      },
      "source": [
        "b = [10, 20, 30]\n",
        "b.extend(['x', 'y'])\n",
        "b"
      ],
      "execution_count": 5,
      "outputs": [
        {
          "output_type": "execute_result",
          "data": {
            "text/plain": [
              "[10, 20, 30, 'x', 'y']"
            ]
          },
          "metadata": {
            "tags": []
          },
          "execution_count": 5
        }
      ]
    },
    {
      "cell_type": "code",
      "metadata": {
        "colab": {
          "base_uri": "https://localhost:8080/"
        },
        "id": "09TcuZD1r7oZ",
        "outputId": "da676457-805d-4249-d96d-dda8817fe0d8"
      },
      "source": [
        "empty_list = []\n",
        "for i in range(5):\n",
        "    empty_list.append(i)\n",
        "empty_list"
      ],
      "execution_count": 6,
      "outputs": [
        {
          "output_type": "execute_result",
          "data": {
            "text/plain": [
              "[0, 1, 2, 3, 4]"
            ]
          },
          "metadata": {
            "tags": []
          },
          "execution_count": 6
        }
      ]
    },
    {
      "cell_type": "code",
      "metadata": {
        "colab": {
          "base_uri": "https://localhost:8080/"
        },
        "id": "LAdl1JqBsMiJ",
        "outputId": "3876fa28-32d8-46f5-9ade-8e35413a38c6"
      },
      "source": [
        "del a[4]\n",
        "a"
      ],
      "execution_count": 7,
      "outputs": [
        {
          "output_type": "execute_result",
          "data": {
            "text/plain": [
              "[10, 20, 30, 500]"
            ]
          },
          "metadata": {
            "tags": []
          },
          "execution_count": 7
        }
      ]
    },
    {
      "cell_type": "markdown",
      "metadata": {
        "id": "cJ1VaBWft78L"
      },
      "source": [
        "### Stack and Queue"
      ]
    },
    {
      "cell_type": "code",
      "metadata": {
        "colab": {
          "base_uri": "https://localhost:8080/"
        },
        "id": "ftIdp9z2tFU1",
        "outputId": "ada65194-cda8-4239-dd92-f4c23b19bfe3"
      },
      "source": [
        "stack = []\n",
        "# stack에 push\n",
        "stack.append(1); stack.append(2); stack.append(3);\n",
        "stack"
      ],
      "execution_count": 8,
      "outputs": [
        {
          "output_type": "execute_result",
          "data": {
            "text/plain": [
              "[1, 2, 3]"
            ]
          },
          "metadata": {
            "tags": []
          },
          "execution_count": 8
        }
      ]
    },
    {
      "cell_type": "code",
      "metadata": {
        "colab": {
          "base_uri": "https://localhost:8080/"
        },
        "id": "da5u4BG8uWOP",
        "outputId": "918be807-c289-4415-a901-ef20e2932c46"
      },
      "source": [
        "value = stack.pop()\n",
        "print(value, stack)"
      ],
      "execution_count": 9,
      "outputs": [
        {
          "output_type": "stream",
          "text": [
            "3 [1, 2]\n"
          ],
          "name": "stdout"
        }
      ]
    },
    {
      "cell_type": "code",
      "metadata": {
        "colab": {
          "base_uri": "https://localhost:8080/"
        },
        "id": "YUXfN_OsuyBt",
        "outputId": "bdbf516a-42ef-4319-c00f-197a7add2618"
      },
      "source": [
        "queue = []\n",
        "queue.insert(0, 1); queue.insert(0, 2); queue.insert(0, 3)\n",
        "queue"
      ],
      "execution_count": 10,
      "outputs": [
        {
          "output_type": "execute_result",
          "data": {
            "text/plain": [
              "[3, 2, 1]"
            ]
          },
          "metadata": {
            "tags": []
          },
          "execution_count": 10
        }
      ]
    },
    {
      "cell_type": "markdown",
      "metadata": {
        "id": "UQ8J0vkuv3rv"
      },
      "source": [
        "### 다양한 메쏘드"
      ]
    },
    {
      "cell_type": "code",
      "metadata": {
        "colab": {
          "base_uri": "https://localhost:8080/"
        },
        "id": "g2ALlplRvDQb",
        "outputId": "701971c5-a1db-434d-867e-c2ebd334df64"
      },
      "source": [
        "a = [10, 20, 30, 40, 50, 60]\n",
        "a.index(30)"
      ],
      "execution_count": 11,
      "outputs": [
        {
          "output_type": "execute_result",
          "data": {
            "text/plain": [
              "2"
            ]
          },
          "metadata": {
            "tags": []
          },
          "execution_count": 11
        }
      ]
    },
    {
      "cell_type": "code",
      "metadata": {
        "id": "eeFJue5Lv9Xz"
      },
      "source": [
        "num = 45\n",
        "if num in a:\n",
        "    idx = a.index(num)"
      ],
      "execution_count": 12,
      "outputs": []
    },
    {
      "cell_type": "code",
      "metadata": {
        "colab": {
          "base_uri": "https://localhost:8080/"
        },
        "id": "kfqltVguwUhg",
        "outputId": "0b4c316e-b062-4c0a-c3ae-dc5f2018301e"
      },
      "source": [
        "a.count(10)"
      ],
      "execution_count": 13,
      "outputs": [
        {
          "output_type": "execute_result",
          "data": {
            "text/plain": [
              "1"
            ]
          },
          "metadata": {
            "tags": []
          },
          "execution_count": 13
        }
      ]
    },
    {
      "cell_type": "code",
      "metadata": {
        "colab": {
          "base_uri": "https://localhost:8080/"
        },
        "id": "hqIHbOpfxQ-K",
        "outputId": "b26943b8-b9df-47d2-82df-47897f7aeee5"
      },
      "source": [
        "a = [10, 20, 30, 40, 50, 10]\n",
        "a.index(30), a.index(40)"
      ],
      "execution_count": 14,
      "outputs": [
        {
          "output_type": "execute_result",
          "data": {
            "text/plain": [
              "(2, 3)"
            ]
          },
          "metadata": {
            "tags": []
          },
          "execution_count": 14
        }
      ]
    },
    {
      "cell_type": "markdown",
      "metadata": {
        "id": "20A0uadXxZuY"
      },
      "source": [
        "### 정렬(Sort)"
      ]
    },
    {
      "cell_type": "code",
      "metadata": {
        "colab": {
          "base_uri": "https://localhost:8080/"
        },
        "id": "KJNwjcSvxYNM",
        "outputId": "525867d2-107d-45c1-c300-8968fa25bfa2"
      },
      "source": [
        "a = [20, 10, 15, 30, 40]\n",
        "a.sort()\n",
        "a"
      ],
      "execution_count": 15,
      "outputs": [
        {
          "output_type": "execute_result",
          "data": {
            "text/plain": [
              "[10, 15, 20, 30, 40]"
            ]
          },
          "metadata": {
            "tags": []
          },
          "execution_count": 15
        }
      ]
    },
    {
      "cell_type": "code",
      "metadata": {
        "colab": {
          "base_uri": "https://localhost:8080/"
        },
        "id": "BqS1V5Ftxe4P",
        "outputId": "562d303e-9763-4d6a-af6d-aa1cfe9f50c6"
      },
      "source": [
        "b = [20, 10, 15, 30, 40]\n",
        "sorted(b)"
      ],
      "execution_count": 16,
      "outputs": [
        {
          "output_type": "execute_result",
          "data": {
            "text/plain": [
              "[10, 15, 20, 30, 40]"
            ]
          },
          "metadata": {
            "tags": []
          },
          "execution_count": 16
        }
      ]
    },
    {
      "cell_type": "code",
      "metadata": {
        "colab": {
          "base_uri": "https://localhost:8080/"
        },
        "id": "hHgiauAYxoJv",
        "outputId": "fbbd357a-77cf-4722-9a91-9f4a54569287"
      },
      "source": [
        "# 내림차순(descending order)\n",
        "a = [20, 10, 15, 30, 40]\n",
        "a.sort(reverse=True)\n",
        "a"
      ],
      "execution_count": 19,
      "outputs": [
        {
          "output_type": "execute_result",
          "data": {
            "text/plain": [
              "[40, 30, 20, 15, 10]"
            ]
          },
          "metadata": {
            "tags": []
          },
          "execution_count": 19
        }
      ]
    },
    {
      "cell_type": "markdown",
      "metadata": {
        "id": "9WCCscSFzPrj"
      },
      "source": [
        "## 22.2 리스트 할당과 복사"
      ]
    },
    {
      "cell_type": "code",
      "metadata": {
        "colab": {
          "base_uri": "https://localhost:8080/"
        },
        "id": "U8wrVJVoyqMO",
        "outputId": "06c4ce24-8e81-4f3c-a18d-b405588b37cb"
      },
      "source": [
        "a = [0, 0, 0, 0, 0]\n",
        "b = a\n",
        "b"
      ],
      "execution_count": 21,
      "outputs": [
        {
          "output_type": "execute_result",
          "data": {
            "text/plain": [
              "[0, 0, 0, 0, 0]"
            ]
          },
          "metadata": {
            "tags": []
          },
          "execution_count": 21
        }
      ]
    },
    {
      "cell_type": "code",
      "metadata": {
        "colab": {
          "base_uri": "https://localhost:8080/"
        },
        "id": "nHbpVmIdzOUg",
        "outputId": "4ebd0fe5-5648-4842-d711-4f72be946444"
      },
      "source": [
        "b[2] = 99\n",
        "b"
      ],
      "execution_count": 22,
      "outputs": [
        {
          "output_type": "execute_result",
          "data": {
            "text/plain": [
              "[0, 0, 99, 0, 0]"
            ]
          },
          "metadata": {
            "tags": []
          },
          "execution_count": 22
        }
      ]
    },
    {
      "cell_type": "code",
      "metadata": {
        "colab": {
          "base_uri": "https://localhost:8080/"
        },
        "id": "VIOKKmeuzfuH",
        "outputId": "2effd4db-78f5-4cae-9aae-3c9dd1c8179a"
      },
      "source": [
        "a"
      ],
      "execution_count": 23,
      "outputs": [
        {
          "output_type": "execute_result",
          "data": {
            "text/plain": [
              "[0, 0, 99, 0, 0]"
            ]
          },
          "metadata": {
            "tags": []
          },
          "execution_count": 23
        }
      ]
    },
    {
      "cell_type": "code",
      "metadata": {
        "colab": {
          "base_uri": "https://localhost:8080/"
        },
        "id": "RrcyyZV3zgcs",
        "outputId": "5497936e-d1b6-464b-b7b3-160781178861"
      },
      "source": [
        "# 데이터를 몽땅 별도의 기억장소에 복사\n",
        "a = [0,0,0,0,0]\n",
        "b = a.copy()\n",
        "b"
      ],
      "execution_count": 24,
      "outputs": [
        {
          "output_type": "execute_result",
          "data": {
            "text/plain": [
              "[0, 0, 0, 0, 0]"
            ]
          },
          "metadata": {
            "tags": []
          },
          "execution_count": 24
        }
      ]
    },
    {
      "cell_type": "code",
      "metadata": {
        "colab": {
          "base_uri": "https://localhost:8080/"
        },
        "id": "yyb94Gs80MCL",
        "outputId": "b078d0d8-deca-4584-d3b8-50f8699610e9"
      },
      "source": [
        "b[2] = 99\n",
        "a"
      ],
      "execution_count": 25,
      "outputs": [
        {
          "output_type": "execute_result",
          "data": {
            "text/plain": [
              "[0, 0, 0, 0, 0]"
            ]
          },
          "metadata": {
            "tags": []
          },
          "execution_count": 25
        }
      ]
    },
    {
      "cell_type": "markdown",
      "metadata": {
        "id": "yRUnfeav3g7r"
      },
      "source": [
        "### 22.3 리스트와 반복문"
      ]
    },
    {
      "cell_type": "code",
      "metadata": {
        "colab": {
          "base_uri": "https://localhost:8080/"
        },
        "id": "PbClnvWz0OQ4",
        "outputId": "ff89ee9e-fc9c-4c90-f4f7-c931be343ff1"
      },
      "source": [
        "for fruit in ['apple', 'banana', 'cherry']:\n",
        "    print(fruit)"
      ],
      "execution_count": 27,
      "outputs": [
        {
          "output_type": "stream",
          "text": [
            "apple\n",
            "banana\n",
            "cherry\n"
          ],
          "name": "stdout"
        }
      ]
    },
    {
      "cell_type": "code",
      "metadata": {
        "colab": {
          "base_uri": "https://localhost:8080/"
        },
        "id": "3d2HLhOH3mwc",
        "outputId": "0861c06e-fd93-4566-85b8-f88fd487f295"
      },
      "source": [
        "fruits = ['apple', 'banana', 'cherry']\n",
        "for index, fruit in enumerate(fruits):\n",
        "    print(index, fruit)"
      ],
      "execution_count": 28,
      "outputs": [
        {
          "output_type": "stream",
          "text": [
            "0 apple\n",
            "1 banana\n",
            "2 cherry\n"
          ],
          "name": "stdout"
        }
      ]
    },
    {
      "cell_type": "code",
      "metadata": {
        "colab": {
          "base_uri": "https://localhost:8080/"
        },
        "id": "KKFUFvqE3u4p",
        "outputId": "bc14e380-eac5-41e8-b26d-1a5f3415c2d5"
      },
      "source": [
        "for i in range(len(fruits)):\n",
        "    print(fruits[i])"
      ],
      "execution_count": 29,
      "outputs": [
        {
          "output_type": "stream",
          "text": [
            "apple\n",
            "banana\n",
            "cherry\n"
          ],
          "name": "stdout"
        }
      ]
    },
    {
      "cell_type": "markdown",
      "metadata": {
        "id": "E3Jy8Yyu4QSh"
      },
      "source": [
        "## 22.4 리스트에서 min, max, sum 함수"
      ]
    },
    {
      "cell_type": "code",
      "metadata": {
        "colab": {
          "base_uri": "https://localhost:8080/"
        },
        "id": "jUkYCM3y4AHZ",
        "outputId": "6e8d826f-bb15-48a3-e3ad-1c2d3a294feb"
      },
      "source": [
        "a = [38, 21, 53, 62, 19]\n",
        "a.sort()\n",
        "a[0] #min(a)"
      ],
      "execution_count": 31,
      "outputs": [
        {
          "output_type": "execute_result",
          "data": {
            "text/plain": [
              "19"
            ]
          },
          "metadata": {
            "tags": []
          },
          "execution_count": 31
        }
      ]
    },
    {
      "cell_type": "code",
      "metadata": {
        "colab": {
          "base_uri": "https://localhost:8080/"
        },
        "id": "HUW3Jie24rdb",
        "outputId": "6b4b5ba0-e64e-4060-f48a-cc2020065678"
      },
      "source": [
        "a[-1] #max(a)"
      ],
      "execution_count": 32,
      "outputs": [
        {
          "output_type": "execute_result",
          "data": {
            "text/plain": [
              "62"
            ]
          },
          "metadata": {
            "tags": []
          },
          "execution_count": 32
        }
      ]
    },
    {
      "cell_type": "code",
      "metadata": {
        "colab": {
          "base_uri": "https://localhost:8080/"
        },
        "id": "LKiItwQW49Gj",
        "outputId": "160c956a-51da-4109-fa65-62901fa0a40b"
      },
      "source": [
        "a = [38, 21, 53, 62, 19]\n",
        "sorted(a)[0]  #min(a)"
      ],
      "execution_count": 33,
      "outputs": [
        {
          "output_type": "execute_result",
          "data": {
            "text/plain": [
              "19"
            ]
          },
          "metadata": {
            "tags": []
          },
          "execution_count": 33
        }
      ]
    },
    {
      "cell_type": "code",
      "metadata": {
        "colab": {
          "base_uri": "https://localhost:8080/"
        },
        "id": "4vsPS4lH5CX7",
        "outputId": "48b11447-1b47-4803-8f08-cd551581747e"
      },
      "source": [
        "# a 원소의 합\n",
        "sum_of_list = 0\n",
        "for elem in a:\n",
        "    sum_of_list += elem\n",
        "sum_of_list, sum(a)"
      ],
      "execution_count": 34,
      "outputs": [
        {
          "output_type": "execute_result",
          "data": {
            "text/plain": [
              "(193, 193)"
            ]
          },
          "metadata": {
            "tags": []
          },
          "execution_count": 34
        }
      ]
    },
    {
      "cell_type": "code",
      "metadata": {
        "colab": {
          "base_uri": "https://localhost:8080/",
          "height": 212
        },
        "id": "1U0_UDN_5YF7",
        "outputId": "7ea18086-c6ec-49c4-cc9a-163dc787edf4"
      },
      "source": [
        "sum = 0\n",
        "for elem in a:\n",
        "    sum += elem\n",
        "sum, sum(a)"
      ],
      "execution_count": 35,
      "outputs": [
        {
          "output_type": "error",
          "ename": "TypeError",
          "evalue": "ignored",
          "traceback": [
            "\u001b[0;31m---------------------------------------------------------------------------\u001b[0m",
            "\u001b[0;31mTypeError\u001b[0m                                 Traceback (most recent call last)",
            "\u001b[0;32m<ipython-input-35-401ac9689c5f>\u001b[0m in \u001b[0;36m<module>\u001b[0;34m()\u001b[0m\n\u001b[1;32m      2\u001b[0m \u001b[0;32mfor\u001b[0m \u001b[0melem\u001b[0m \u001b[0;32min\u001b[0m \u001b[0ma\u001b[0m\u001b[0;34m:\u001b[0m\u001b[0;34m\u001b[0m\u001b[0;34m\u001b[0m\u001b[0m\n\u001b[1;32m      3\u001b[0m     \u001b[0msum\u001b[0m \u001b[0;34m+=\u001b[0m \u001b[0melem\u001b[0m\u001b[0;34m\u001b[0m\u001b[0;34m\u001b[0m\u001b[0m\n\u001b[0;32m----> 4\u001b[0;31m \u001b[0msum\u001b[0m\u001b[0;34m,\u001b[0m \u001b[0msum\u001b[0m\u001b[0;34m(\u001b[0m\u001b[0ma\u001b[0m\u001b[0;34m)\u001b[0m\u001b[0;34m\u001b[0m\u001b[0;34m\u001b[0m\u001b[0m\n\u001b[0m",
            "\u001b[0;31mTypeError\u001b[0m: 'int' object is not callable"
          ]
        }
      ]
    },
    {
      "cell_type": "markdown",
      "metadata": {
        "id": "1FlVSrE-59TR"
      },
      "source": [
        "## 22.5 리스트 표현식(Comprehension)"
      ]
    },
    {
      "cell_type": "code",
      "metadata": {
        "colab": {
          "base_uri": "https://localhost:8080/"
        },
        "id": "QpUjvWhG5jYD",
        "outputId": "be08f755-5cf8-4093-c043-b3e85d2998b3"
      },
      "source": [
        "[fruit for fruit in fruits]"
      ],
      "execution_count": 36,
      "outputs": [
        {
          "output_type": "execute_result",
          "data": {
            "text/plain": [
              "['apple', 'banana', 'cherry']"
            ]
          },
          "metadata": {
            "tags": []
          },
          "execution_count": 36
        }
      ]
    },
    {
      "cell_type": "code",
      "metadata": {
        "colab": {
          "base_uri": "https://localhost:8080/"
        },
        "id": "UQOOAvN86izH",
        "outputId": "d5723747-cc91-4043-b961-6fe2218172cd"
      },
      "source": [
        "[fruit*index for index, fruit in enumerate(fruits)]"
      ],
      "execution_count": 37,
      "outputs": [
        {
          "output_type": "execute_result",
          "data": {
            "text/plain": [
              "['', 'banana', 'cherrycherry']"
            ]
          },
          "metadata": {
            "tags": []
          },
          "execution_count": 37
        }
      ]
    },
    {
      "cell_type": "code",
      "metadata": {
        "colab": {
          "base_uri": "https://localhost:8080/"
        },
        "id": "Dtqel77Y6n6H",
        "outputId": "4ebc8835-e1f8-4e64-87d4-b4317e9957c5"
      },
      "source": [
        "[i*i for i in range(1, 11)]"
      ],
      "execution_count": 38,
      "outputs": [
        {
          "output_type": "execute_result",
          "data": {
            "text/plain": [
              "[1, 4, 9, 16, 25, 36, 49, 64, 81, 100]"
            ]
          },
          "metadata": {
            "tags": []
          },
          "execution_count": 38
        }
      ]
    },
    {
      "cell_type": "code",
      "metadata": {
        "colab": {
          "base_uri": "https://localhost:8080/"
        },
        "id": "DaW_DnBW6-XX",
        "outputId": "106c8b1b-1987-41d9-be72-bb7c64ffa78c"
      },
      "source": [
        "list(i*i for i in range(1, 11))"
      ],
      "execution_count": 39,
      "outputs": [
        {
          "output_type": "execute_result",
          "data": {
            "text/plain": [
              "[1, 4, 9, 16, 25, 36, 49, 64, 81, 100]"
            ]
          },
          "metadata": {
            "tags": []
          },
          "execution_count": 39
        }
      ]
    },
    {
      "cell_type": "code",
      "metadata": {
        "colab": {
          "base_uri": "https://localhost:8080/"
        },
        "id": "0WoHPWRv7XXD",
        "outputId": "590b78b0-eb5a-4724-aeeb-2266cce38d0f"
      },
      "source": [
        "sq_list = []\n",
        "for i in range(1, 11):\n",
        "    sq_list.append(i*i)\n",
        "\n",
        "sq_list"
      ],
      "execution_count": 40,
      "outputs": [
        {
          "output_type": "execute_result",
          "data": {
            "text/plain": [
              "[1, 4, 9, 16, 25, 36, 49, 64, 81, 100]"
            ]
          },
          "metadata": {
            "tags": []
          },
          "execution_count": 40
        }
      ]
    },
    {
      "cell_type": "markdown",
      "metadata": {
        "id": "z0mFs2Dr-ZqR"
      },
      "source": [
        "### 22.6 map"
      ]
    },
    {
      "cell_type": "code",
      "metadata": {
        "colab": {
          "base_uri": "https://localhost:8080/"
        },
        "id": "cX98j_ds7hiQ",
        "outputId": "1b65567b-6318-4f81-c588-e0ed667ddf91"
      },
      "source": [
        "a = [1.2, 2.3, 3.5, 4.8]\n",
        "for i in range(len(a)):\n",
        "    a[i] = int(a[i])\n",
        "a"
      ],
      "execution_count": 42,
      "outputs": [
        {
          "output_type": "execute_result",
          "data": {
            "text/plain": [
              "[1, 2, 3, 4]"
            ]
          },
          "metadata": {
            "tags": []
          },
          "execution_count": 42
        }
      ]
    },
    {
      "cell_type": "code",
      "metadata": {
        "colab": {
          "base_uri": "https://localhost:8080/"
        },
        "id": "_XoRSJd6-mkm",
        "outputId": "e9b2bc1e-bc3e-41bd-cb64-01a86eba5c48"
      },
      "source": [
        "a = [1.2, 2.3, 3.5, 4.8]\n",
        "a = list(map(int,a))\n",
        "a"
      ],
      "execution_count": 43,
      "outputs": [
        {
          "output_type": "execute_result",
          "data": {
            "text/plain": [
              "[1, 2, 3, 4]"
            ]
          },
          "metadata": {
            "tags": []
          },
          "execution_count": 43
        }
      ]
    },
    {
      "cell_type": "markdown",
      "metadata": {
        "id": "Y8cnK84v_-LI"
      },
      "source": [
        "### 22.7 tuple"
      ]
    },
    {
      "cell_type": "code",
      "metadata": {
        "colab": {
          "base_uri": "https://localhost:8080/"
        },
        "id": "J60Gdsyr_iaH",
        "outputId": "3027f7dd-de3e-48fd-f936-75718884083c"
      },
      "source": [
        "tuple(i*i for i in range(1, 11) if i%2 == 0)"
      ],
      "execution_count": 44,
      "outputs": [
        {
          "output_type": "execute_result",
          "data": {
            "text/plain": [
              "(4, 16, 36, 64, 100)"
            ]
          },
          "metadata": {
            "tags": []
          },
          "execution_count": 44
        }
      ]
    },
    {
      "cell_type": "code",
      "metadata": {
        "id": "kMm57queAjAj"
      },
      "source": [
        ""
      ],
      "execution_count": null,
      "outputs": []
    }
  ]
}