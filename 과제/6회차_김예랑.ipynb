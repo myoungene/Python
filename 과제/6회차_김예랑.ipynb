{
  "nbformat": 4,
  "nbformat_minor": 0,
  "metadata": {
    "colab": {
      "name": "심사문제.ipynb",
      "provenance": []
    },
    "kernelspec": {
      "name": "python3",
      "display_name": "Python 3"
    },
    "language_info": {
      "name": "python"
    }
  },
  "cells": [
    {
      "cell_type": "markdown",
      "metadata": {
        "id": "mDC04hjOxfdI"
      },
      "source": [
        "# 8.5 심사문제"
      ]
    },
    {
      "cell_type": "code",
      "metadata": {
        "colab": {
          "base_uri": "https://localhost:8080/"
        },
        "id": "hTscTBvVxdaW",
        "outputId": "8dfa27be-f019-4444-e2da-924d0d736afe"
      },
      "source": [
        "kor = int(input())\n",
        "math = int(input())\n",
        "english = int(input())\n",
        "sci = int(input())\n",
        "\n",
        "kor > 90 and math > 85 and english > 80 and sci >= 80"
      ],
      "execution_count": 4,
      "outputs": [
        {
          "output_type": "stream",
          "text": [
            "89\n",
            "90\n",
            "90\n",
            "90\n"
          ],
          "name": "stdout"
        },
        {
          "output_type": "execute_result",
          "data": {
            "text/plain": [
              "False"
            ]
          },
          "metadata": {
            "tags": []
          },
          "execution_count": 4
        }
      ]
    },
    {
      "cell_type": "markdown",
      "metadata": {
        "id": "TumviRadz022"
      },
      "source": [
        "## 9.4 심사문제"
      ]
    },
    {
      "cell_type": "code",
      "metadata": {
        "colab": {
          "base_uri": "https://localhost:8080/"
        },
        "id": "Hbe-jssWyn9y",
        "outputId": "7c631638-d2dc-401e-99aa-faa0ac1b9f3c"
      },
      "source": [
        "s = \"\"\"\n",
        "'Python' is a \"programming language\"\n",
        "that lets you work quickly\n",
        "and\n",
        "integrate systems more effectively.\n",
        "\"\"\"\n",
        "print(s)"
      ],
      "execution_count": 5,
      "outputs": [
        {
          "output_type": "stream",
          "text": [
            "\n",
            "'Python' is a \"programming language\"\n",
            "that lets you work quickly\n",
            "and\n",
            "integrate systems more effectively.\n",
            "\n"
          ],
          "name": "stdout"
        }
      ]
    },
    {
      "cell_type": "markdown",
      "metadata": {
        "id": "_FYPuE7t0SiS"
      },
      "source": [
        "## 10.5 심사문제"
      ]
    },
    {
      "cell_type": "code",
      "metadata": {
        "colab": {
          "base_uri": "https://localhost:8080/"
        },
        "id": "BCFODgnk0Hsq",
        "outputId": "0ea93b63-596d-4c8b-8964-3b7ad80d6fa1"
      },
      "source": [
        "step = int(input())\n",
        "tuple(range(-10, 10, step))"
      ],
      "execution_count": 11,
      "outputs": [
        {
          "output_type": "stream",
          "text": [
            "2\n"
          ],
          "name": "stdout"
        },
        {
          "output_type": "execute_result",
          "data": {
            "text/plain": [
              "(-10, -8, -6, -4, -2, 0, 2, 4, 6, 8)"
            ]
          },
          "metadata": {
            "tags": []
          },
          "execution_count": 11
        }
      ]
    },
    {
      "cell_type": "markdown",
      "metadata": {
        "id": "zUUYgEvg4uch"
      },
      "source": [
        "## 11.9 심사문제"
      ]
    },
    {
      "cell_type": "code",
      "metadata": {
        "colab": {
          "base_uri": "https://localhost:8080/"
        },
        "id": "wkr6tt0q0uG9",
        "outputId": "35c8adfa-5f20-4370-aa7c-d8828933c3a9"
      },
      "source": [
        "x = list(input().split())\n",
        "del x[5:10:]\n",
        "print(tuple(x))\n",
        "\n"
      ],
      "execution_count": 25,
      "outputs": [
        {
          "output_type": "stream",
          "text": [
            "1 2 3 4 5 6 7 8 9 10\n",
            "('1', '2', '3', '4', '5')\n"
          ],
          "name": "stdout"
        }
      ]
    },
    {
      "cell_type": "markdown",
      "metadata": {
        "id": "xaYIZbww7kg5"
      },
      "source": [
        "## 12.5 심사문제"
      ]
    },
    {
      "cell_type": "code",
      "metadata": {
        "id": "HPrw4jhz5IYU"
      },
      "source": [
        "# 참고\n",
        ">>> lux2 = dict(zip(['health', 'mana', 'melee', 'armor'], [490, 334, 550, 18.72]))    # zip 함수로\n",
        ">>> lux2                                                            # 키 리스트와 값 리스트를 묶음\n",
        "{'health': 490, 'mana': 334, 'melee': 550, 'armor': 18.72}"
      ],
      "execution_count": null,
      "outputs": []
    },
    {
      "cell_type": "code",
      "metadata": {
        "colab": {
          "base_uri": "https://localhost:8080/"
        },
        "id": "MdBX4chg8SbP",
        "outputId": "e2f64986-62ff-4cd3-e301-1c4271b9ba09"
      },
      "source": [
        "key = list(input().split())\n",
        "value = list(input().split())\n",
        "\n",
        "s = dict(zip(key, value))\n",
        "print(s)"
      ],
      "execution_count": 31,
      "outputs": [
        {
          "output_type": "stream",
          "text": [
            "health health_regen mana mana_regen\n",
            "575.6 1.7 338.8 1.63\n",
            "{'health': '575.6', 'health_regen': '1.7', 'mana': '338.8', 'mana_regen': '1.63'}\n"
          ],
          "name": "stdout"
        }
      ]
    },
    {
      "cell_type": "markdown",
      "metadata": {
        "id": "cR3_lfMt9n0x"
      },
      "source": [
        "## 13.7 심사문제"
      ]
    },
    {
      "cell_type": "code",
      "metadata": {
        "colab": {
          "base_uri": "https://localhost:8080/"
        },
        "id": "KVDEC1CZ8i70",
        "outputId": "5dcccf27-3cd1-4dea-d480-4f3852b3cab9"
      },
      "source": [
        "price = int(input())\n",
        "coupon = int(input('Cash'))\n",
        "\n",
        "if coupon > 0:\n",
        "    r = price - coupon\n",
        "print(r)\n",
        "\n"
      ],
      "execution_count": 32,
      "outputs": [
        {
          "output_type": "stream",
          "text": [
            "27000\n",
            "Cash3000\n",
            "24000\n"
          ],
          "name": "stdout"
        }
      ]
    },
    {
      "cell_type": "markdown",
      "metadata": {
        "id": "8NGyPRm1_JlV"
      },
      "source": [
        "## 14.7 심사문제"
      ]
    },
    {
      "cell_type": "code",
      "metadata": {
        "colab": {
          "base_uri": "https://localhost:8080/"
        },
        "id": "cBARqz3z-yl1",
        "outputId": "f9027dff-d36f-4704-a749-7de23878a903"
      },
      "source": [
        "a,b,c,d = map(int, input().split()) #int하고 괄호(x) 콤마(o)로 인풋을 이어주기.\n",
        "mean = a+b+c+d / 4 \n",
        "\n",
        "if mean >= 80:\n",
        "    print('합격')\n",
        "else:\n",
        "    if mean<0 or mean>100:\n",
        "        print('잘못된 점수')\n",
        "    else:\n",
        "        if mean < 80:\n",
        "            print('불합격')    "
      ],
      "execution_count": 48,
      "outputs": [
        {
          "output_type": "stream",
          "text": [
            "89 72 93 82\n",
            "합격\n"
          ],
          "name": "stdout"
        }
      ]
    }
  ]
}