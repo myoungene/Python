{
  "nbformat": 4,
  "nbformat_minor": 0,
  "metadata": {
    "colab": {
      "name": "u16_for반복문.ipynb",
      "provenance": []
    },
    "kernelspec": {
      "name": "python3",
      "display_name": "Python 3"
    },
    "language_info": {
      "name": "python"
    }
  },
  "cells": [
    {
      "cell_type": "markdown",
      "metadata": {
        "id": "Mgnd2U_zt_4H"
      },
      "source": [
        "## Unit 16. for반복문"
      ]
    },
    {
      "cell_type": "markdown",
      "metadata": {
        "id": "zdYrLGYjt6kp"
      },
      "source": [
        "## 16.1 for와 range"
      ]
    },
    {
      "cell_type": "code",
      "metadata": {
        "colab": {
          "base_uri": "https://localhost:8080/"
        },
        "id": "ZvqpL7zlt2ph",
        "outputId": "1cd2cc63-716b-4e9e-f1ea-87498664cbf9"
      },
      "source": [
        "for i in range(10):\n",
        "    print('Hello, world!')"
      ],
      "execution_count": 1,
      "outputs": [
        {
          "output_type": "stream",
          "text": [
            "Hello, world!\n",
            "Hello, world!\n",
            "Hello, world!\n",
            "Hello, world!\n",
            "Hello, world!\n",
            "Hello, world!\n",
            "Hello, world!\n",
            "Hello, world!\n",
            "Hello, world!\n",
            "Hello, world!\n"
          ],
          "name": "stdout"
        }
      ]
    },
    {
      "cell_type": "code",
      "metadata": {
        "colab": {
          "base_uri": "https://localhost:8080/"
        },
        "id": "bqdOaQVWuHBO",
        "outputId": "c8620345-4fba-4430-b550-238f913788cb"
      },
      "source": [
        "for i in range(10):\n",
        "    print('Hello, world!', i)"
      ],
      "execution_count": 2,
      "outputs": [
        {
          "output_type": "stream",
          "text": [
            "Hello, world! 0\n",
            "Hello, world! 1\n",
            "Hello, world! 2\n",
            "Hello, world! 3\n",
            "Hello, world! 4\n",
            "Hello, world! 5\n",
            "Hello, world! 6\n",
            "Hello, world! 7\n",
            "Hello, world! 8\n",
            "Hello, world! 9\n"
          ],
          "name": "stdout"
        }
      ]
    },
    {
      "cell_type": "code",
      "metadata": {
        "colab": {
          "base_uri": "https://localhost:8080/"
        },
        "id": "5BbLqZOEvVJH",
        "outputId": "5b438f5f-4a38-4871-af50-46b08329ee43"
      },
      "source": [
        "for _ in range(5):\n",
        "    print('Hello, world!')"
      ],
      "execution_count": 3,
      "outputs": [
        {
          "output_type": "stream",
          "text": [
            "Hello, world!\n",
            "Hello, world!\n",
            "Hello, world!\n",
            "Hello, world!\n",
            "Hello, world!\n"
          ],
          "name": "stdout"
        }
      ]
    },
    {
      "cell_type": "markdown",
      "metadata": {
        "id": "k5NlpLrTyQC9"
      },
      "source": [
        "## 16.2 for와 range응용"
      ]
    },
    {
      "cell_type": "code",
      "metadata": {
        "colab": {
          "base_uri": "https://localhost:8080/"
        },
        "id": "gBTuDC2lvffl",
        "outputId": "c09014a7-935b-44e9-a707-bfd032a60cf6"
      },
      "source": [
        "for i in range(0, 10, 2):\n",
        "    print('Hello, world!', i)"
      ],
      "execution_count": 6,
      "outputs": [
        {
          "output_type": "stream",
          "text": [
            "Hello, world! 0\n",
            "Hello, world! 2\n",
            "Hello, world! 4\n",
            "Hello, world! 6\n",
            "Hello, world! 8\n"
          ],
          "name": "stdout"
        }
      ]
    },
    {
      "cell_type": "code",
      "metadata": {
        "colab": {
          "base_uri": "https://localhost:8080/"
        },
        "id": "4wvKE9JSyXZN",
        "outputId": "5e3ff5fa-e0fc-4c7d-cd67-be70b777dc41"
      },
      "source": [
        "for i in range(1, 101):\n",
        "    print('Fizz'*(i%3==0) + 'Buzz'*(i%5==0) or i, end=' ')\n",
        "    if (i % 10 == 0):\n",
        "        print()"
      ],
      "execution_count": 8,
      "outputs": [
        {
          "output_type": "stream",
          "text": [
            "1 2 Fizz 4 Buzz Fizz 7 8 Fizz Buzz \n",
            "11 Fizz 13 14 FizzBuzz 16 17 Fizz 19 Buzz \n",
            "Fizz 22 23 Fizz Buzz 26 Fizz 28 29 FizzBuzz \n",
            "31 32 Fizz 34 Buzz Fizz 37 38 Fizz Buzz \n",
            "41 Fizz 43 44 FizzBuzz 46 47 Fizz 49 Buzz \n",
            "Fizz 52 53 Fizz Buzz 56 Fizz 58 59 FizzBuzz \n",
            "61 62 Fizz 64 Buzz Fizz 67 68 Fizz Buzz \n",
            "71 Fizz 73 74 FizzBuzz 76 77 Fizz 79 Buzz \n",
            "Fizz 82 83 Fizz Buzz 86 Fizz 88 89 FizzBuzz \n",
            "91 92 Fizz 94 Buzz Fizz 97 98 Fizz Buzz \n"
          ],
          "name": "stdout"
        }
      ]
    },
    {
      "cell_type": "markdown",
      "metadata": {
        "id": "r_9belHS0T_x"
      },
      "source": [
        "## 16.3 시퀀스 객체 반복"
      ]
    },
    {
      "cell_type": "code",
      "metadata": {
        "colab": {
          "base_uri": "https://localhost:8080/"
        },
        "id": "hzQspL64zLMk",
        "outputId": "8172c7de-7c2c-4fef-bfba-7bfcdc2cba39"
      },
      "source": [
        "fruits = ['apple', 'banana', 'cherry']\n",
        "for fruit in fruits:\n",
        "    print(fruit) # 변수 명을 잘 설정해라"
      ],
      "execution_count": 10,
      "outputs": [
        {
          "output_type": "stream",
          "text": [
            "apple\n",
            "banana\n",
            "cherry\n"
          ],
          "name": "stdout"
        }
      ]
    },
    {
      "cell_type": "code",
      "metadata": {
        "colab": {
          "base_uri": "https://localhost:8080/"
        },
        "id": "MlEcHze40a3r",
        "outputId": "9ba6a8bf-6213-464c-b6a3-4ccc3d380f1d"
      },
      "source": [
        "for letter in 'Python':\n",
        "    print(letter, end=' ')"
      ],
      "execution_count": 12,
      "outputs": [
        {
          "output_type": "stream",
          "text": [
            "P y t h o n "
          ],
          "name": "stdout"
        }
      ]
    },
    {
      "cell_type": "code",
      "metadata": {
        "colab": {
          "base_uri": "https://localhost:8080/"
        },
        "id": "BujnSDtM2Yg2",
        "outputId": "b327a060-10c3-4a0a-f172-f04d238eb7bf"
      },
      "source": [
        "for letter in reversed('Python'):\n",
        "    print(letter, end=' ')"
      ],
      "execution_count": 13,
      "outputs": [
        {
          "output_type": "stream",
          "text": [
            "n o h t y P "
          ],
          "name": "stdout"
        }
      ]
    },
    {
      "cell_type": "code",
      "metadata": {
        "colab": {
          "base_uri": "https://localhost:8080/"
        },
        "id": "PPM8Do5M2vob",
        "outputId": "fb20dd18-c285-434f-df50-66c94638709a"
      },
      "source": [
        "for number in (10, 20, 30):\n",
        "    print(number)"
      ],
      "execution_count": 14,
      "outputs": [
        {
          "output_type": "stream",
          "text": [
            "10\n",
            "20\n",
            "30\n"
          ],
          "name": "stdout"
        }
      ]
    },
    {
      "cell_type": "markdown",
      "metadata": {
        "id": "0DN5Gmbt4H7P"
      },
      "source": [
        "# Perfect Number\n",
        "- 자기자신을 제외한 약수의 합이 자기자신과 같은 수\n",
        "- 6의 약수: 1, 2, 3, 6\n",
        "- 6 = 1+2+3\n",
        "- 1000이하의 자연수 중에서는 4개"
      ]
    },
    {
      "cell_type": "code",
      "metadata": {
        "colab": {
          "base_uri": "https://localhost:8080/"
        },
        "id": "LkKU1Iai5ukV",
        "outputId": "79d77203-2916-44f4-f47d-6d073fd1fbbf"
      },
      "source": [
        "for i in range(2, 10001):\n",
        "    sum_of_divisor = 0\n",
        "    for k in range(1, i):#k는 i의 약수를 구하기 위한 변수\n",
        "        if i % k == 0:\n",
        "            sum_of_divisor += k\n",
        "\n",
        "    if i == sum_of_divisor:\n",
        "        print(i)"
      ],
      "execution_count": 18,
      "outputs": [
        {
          "output_type": "stream",
          "text": [
            "6\n",
            "28\n",
            "496\n",
            "8128\n"
          ],
          "name": "stdout"
        }
      ]
    }
  ]
}